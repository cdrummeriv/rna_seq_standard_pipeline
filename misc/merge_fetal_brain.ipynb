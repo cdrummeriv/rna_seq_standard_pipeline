{
 "cells": [
  {
   "cell_type": "markdown",
   "id": "a225ab7f",
   "metadata": {},
   "source": [
    "Merge Fetal Brain Junctions"
   ]
  },
  {
   "cell_type": "code",
   "execution_count": 1,
   "id": "a91d19c9",
   "metadata": {},
   "outputs": [],
   "source": [
    "import os\n",
    "import sys\n",
    "import pandas as pd"
   ]
  },
  {
   "cell_type": "code",
   "execution_count": 3,
   "id": "3b93a7d8",
   "metadata": {},
   "outputs": [
    {
     "name": "stdout",
     "output_type": "stream",
     "text": [
      "/Users/hayerk/Dropbox (Personal)/NFB_raw_and_splice_junction_counts/\n",
      "\n"
     ]
    }
   ],
   "source": [
    "dir_junc = \"/Users/hayerk/Dropbox (Personal)/NFB_raw_and_splice_junction_counts/\"\n",
    "print(dir_junc + \"\\n\")\n"
   ]
  },
  {
   "cell_type": "code",
   "execution_count": 4,
   "id": "deebdb68",
   "metadata": {},
   "outputs": [
    {
     "name": "stdout",
     "output_type": "stream",
     "text": [
      "final.csv\n",
      "\n"
     ]
    }
   ],
   "source": [
    "outfile = \"final.csv\"\n",
    "print(outfile + \"\\n\")\n"
   ]
  },
  {
   "cell_type": "code",
   "execution_count": 5,
   "id": "2be270b8",
   "metadata": {},
   "outputs": [],
   "source": [
    "all_junc_files = os.listdir(dir_junc)\n",
    "all_junc_files = [name for name in all_junc_files if '.splice.junctions.tsv' in name]\n",
    "#len(all_junc_files)\n",
    "\n",
    "junctions = pd.read_csv(dir_junc + all_junc_files[0], sep = \"\\t\", header = None,\n",
    "\tusecols = [0,1,2,3,5,6,7,8],\n",
    "\tnames = [\"chr\",\"start\",\"stop\",\"strand\",\"annotated\",\"unique\",\"multi\",\"max\"])\n",
    "#junctions.head()\n",
    "all_reads = junctions['unique'].sum()\n",
    "junctions[\"norm\"] = junctions[\"unique\"]/(all_reads / 1000000)\n",
    "\n",
    "junc_df = junctions.loc[:,(\"chr\",\"start\",\"stop\",\"unique\",\"norm\")]\n",
    "junc_df[\"sample_name\"] = \"test\"\n",
    "junc_df.head()\n",
    "\n",
    "junc_df = pd.DataFrame(columns=junc_df.columns)\n",
    "#for f in all_voila_files[0:5]:"
   ]
  },
  {
   "cell_type": "code",
   "execution_count": 6,
   "id": "fba2d2f4",
   "metadata": {},
   "outputs": [
    {
     "name": "stdout",
     "output_type": "stream",
     "text": [
      "NFB_1.splice.junctions.tsv\n",
      "NFB_4.splice.junctions.tsv\n",
      "NFB_5.splice.junctions.tsv\n",
      "NFB_6.splice.junctions.tsv\n",
      "NFB_11.splice.junctions.tsv\n",
      "NFB_3.splice.junctions.tsv\n",
      "NFB_9.splice.junctions.tsv\n",
      "NFB_8.splice.junctions.tsv\n",
      "NFB_7.splice.junctions.tsv\n",
      "NFB_2.splice.junctions.tsv\n",
      "NFB_10.splice.junctions.tsv\n",
      "ALL GOOD\n",
      "\n"
     ]
    }
   ],
   "source": [
    "for f in all_junc_files:\n",
    "    print(f)\n",
    "    #print(f)\n",
    "    junctions.head()\n",
    "    c_junc_df = pd.read_csv(dir_junc+f,\n",
    "                            sep='\\t',\n",
    "                            header=None,\n",
    "                            usecols = [0,1,2,3,5,6,7,8],\n",
    "                            names = [\"chr\",\"start\",\"stop\",\"strand\",\"annotated\",\"unique\",\"multi\",\"max\"]\n",
    "                           )\n",
    "    all_reads = c_junc_df['unique'].sum()\n",
    "    c_junc_df = c_junc_df[c_junc_df['unique'] > 5]\n",
    "    c_junc_df['norm'] = c_junc_df['unique']/(all_reads/1000000)\n",
    "    \n",
    "    c_junc_df[\"sample_name\"] = f.split(\"_SJ.out.tab\")[0]\n",
    "    \n",
    "   \n",
    "    c_junc_df = c_junc_df.loc[:,(\"chr\",\"start\",\"stop\",\"unique\",\"norm\",\"sample_name\")]\n",
    "    junc_df  = pd.concat([junc_df, c_junc_df])\n",
    "\n",
    "\n",
    "print(\"ALL GOOD\\n\")"
   ]
  },
  {
   "cell_type": "code",
   "execution_count": 8,
   "id": "914ad036",
   "metadata": {},
   "outputs": [
    {
     "name": "stdout",
     "output_type": "stream",
     "text": [
      "Pivot done\n",
      "\n"
     ]
    }
   ],
   "source": [
    "pivot_df = junc_df.pivot_table(index = [\"chr\",\"start\", \"stop\"], columns=\"sample_name\", values = \"norm\").fillna(0)\n",
    "print(\"Pivot done\\n\")\n",
    "\n"
   ]
  },
  {
   "cell_type": "code",
   "execution_count": 9,
   "id": "3ba77bb9",
   "metadata": {},
   "outputs": [],
   "source": [
    "pivot_df.to_csv(outfile)\n"
   ]
  },
  {
   "cell_type": "code",
   "execution_count": null,
   "id": "dd55ea14",
   "metadata": {},
   "outputs": [],
   "source": []
  }
 ],
 "metadata": {
  "kernelspec": {
   "display_name": "Python 2",
   "language": "python",
   "name": "python2"
  },
  "language_info": {
   "codemirror_mode": {
    "name": "ipython",
    "version": 3
   },
   "file_extension": ".py",
   "mimetype": "text/x-python",
   "name": "python",
   "nbconvert_exporter": "python",
   "pygments_lexer": "ipython3",
   "version": "3.7.6"
  }
 },
 "nbformat": 4,
 "nbformat_minor": 5
}
